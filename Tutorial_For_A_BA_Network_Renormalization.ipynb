{
 "cells": [
  {
   "cell_type": "markdown",
   "id": "74511fde",
   "metadata": {},
   "source": [
    "## A tutorial to get you started faster\n",
    "In this tutorial we will show you a breif example about how our model works, you will learn that quickly\n",
    "<br/>\n",
    "We will generate a synthetic network(BA with 256 nodes) and try to compress it to a macro(smaller) network with 30 nodes"
   ]
  },
  {
   "cell_type": "code",
   "execution_count": null,
   "id": "6e34ba15",
   "metadata": {},
   "outputs": [],
   "source": [
    "import networkx as nx\n",
    "import matplotlib.pyplot as plt\n",
    "from tqdm import *\n",
    "import random\n",
    "import numpy as np\n",
    "\n",
    "import torch\n",
    "import torch_geometric\n",
    "\n",
    "from model import Encoder,WeightSumDecoder\n",
    "from data import get_feature,standardize_matrix,get_zt\n",
    "from utils import mins_cross_entropy,shuffle_rows,visualize_weighted_graph"
   ]
  },
  {
   "cell_type": "code",
   "execution_count": null,
   "id": "6783de8b",
   "metadata": {},
   "outputs": [],
   "source": [
    "torch.__version__,torch_geometric.__version__,np.__version__"
   ]
  },
  {
   "cell_type": "code",
   "execution_count": null,
   "id": "0c3c86a6",
   "metadata": {},
   "outputs": [],
   "source": [
    "s = 2050\n",
    "torch.manual_seed(s)\n",
    "np.random.seed(s)\n",
    "random.seed(s)\n",
    "device = 'cuda:0' if torch.cuda.is_available() else 'cpu'"
   ]
  },
  {
   "cell_type": "markdown",
   "id": "91bd0b02",
   "metadata": {},
   "source": [
    "## get a synthetic network"
   ]
  },
  {
   "cell_type": "code",
   "execution_count": null,
   "id": "167be492",
   "metadata": {},
   "outputs": [],
   "source": [
    "g = nx.barabasi_albert_graph(256,2)"
   ]
  },
  {
   "cell_type": "code",
   "execution_count": null,
   "id": "90d0133a",
   "metadata": {},
   "outputs": [],
   "source": [
    "nx.draw(g,node_size=10)"
   ]
  },
  {
   "cell_type": "markdown",
   "id": "d85f99d1",
   "metadata": {},
   "source": [
    "## From the topology, we extract the information for the GNN including:\n",
    "- Node features\n",
    "- normalized partition curve(10 points in the curve)\n",
    "- edge index"
   ]
  },
  {
   "cell_type": "code",
   "execution_count": null,
   "id": "767e4a08",
   "metadata": {},
   "outputs": [],
   "source": [
    "X = get_feature(g).float().to(device)\n",
    "adj = torch.from_numpy(nx.to_numpy_array(g)).to(device)\n",
    "y = get_zt(adj).float().to(device)\n",
    "edge_index = torch_geometric.utils.dense_to_sparse(adj)[0].to(device)"
   ]
  },
  {
   "cell_type": "markdown",
   "id": "868df74a",
   "metadata": {},
   "source": [
    "## Define the model and optimizer"
   ]
  },
  {
   "cell_type": "code",
   "execution_count": null,
   "id": "24bf43f8",
   "metadata": {},
   "outputs": [],
   "source": [
    "macro_node = 30\n",
    "encoder = Encoder(input_dim =5, hidden_dim = 128, output_dim = macro_node, n_layers = 1).to(device)\n",
    "decoder = WeightSumDecoder(macro_node)\n",
    "op = torch.optim.Adam(encoder.parameters(),lr=0.0001)"
   ]
  },
  {
   "cell_type": "markdown",
   "id": "46e42129",
   "metadata": {},
   "source": [
    "## Start Training!"
   ]
  },
  {
   "cell_type": "code",
   "execution_count": null,
   "id": "462e5542",
   "metadata": {},
   "outputs": [],
   "source": [
    "# record the loss\n",
    "lss_train = []\n",
    "lss_ce = []"
   ]
  },
  {
   "cell_type": "code",
   "execution_count": null,
   "id": "82db66b0",
   "metadata": {},
   "outputs": [],
   "source": [
    "for e in tqdm(range(5000)):\n",
    "    # Partition function evaluation\n",
    "    group = encoder(X,edge_index)\n",
    "    new_p = decoder(group,adj.float())\n",
    "    yhat = get_zt(new_p)\n",
    "    l0 = torch.mean(torch.abs(y-yhat))\n",
    "    \n",
    "    # Cross Entropy Loss exists to make nodes as seperate as possible, it will be helpful for training in most cases\n",
    "    sgroup = shuffle_rows(group)\n",
    "    l1 = mins_cross_entropy(sgroup,group)\n",
    "    \n",
    "    loss= l0+l1*0.001 # this weight should not be too large, you can try by yourself\n",
    "    \n",
    "    # backpropagation and gradient decent\n",
    "    op.zero_grad()\n",
    "    loss.backward()\n",
    "    op.step()\n",
    "    \n",
    "    # recording\n",
    "    lss_train.append(l0.item())\n",
    "    lss_ce.append(l1.item())"
   ]
  },
  {
   "cell_type": "markdown",
   "id": "e51eaf52",
   "metadata": {},
   "source": [
    "## Visualize the loss curve"
   ]
  },
  {
   "cell_type": "code",
   "execution_count": null,
   "id": "38ba9d04",
   "metadata": {},
   "outputs": [],
   "source": [
    "plt.subplot(121)\n",
    "plt.title('Partition function Difference')\n",
    "plt.plot(lss_train)\n",
    "plt.subplot(122)\n",
    "plt.title('Cross Entropy')\n",
    "plt.plot(lss_ce)\n",
    "plt.show()"
   ]
  },
  {
   "cell_type": "markdown",
   "id": "9d02aa7f",
   "metadata": {},
   "source": [
    "## Visualize the Macro Network"
   ]
  },
  {
   "cell_type": "code",
   "execution_count": null,
   "id": "85a70803",
   "metadata": {},
   "outputs": [],
   "source": [
    "visualize_weighted_graph(new_p.cpu().detach().numpy(),np.sum(group.cpu().detach().numpy()*20,axis=0))"
   ]
  },
  {
   "cell_type": "markdown",
   "id": "1192ee1c",
   "metadata": {},
   "source": [
    "## And compare the partition function"
   ]
  },
  {
   "cell_type": "code",
   "execution_count": null,
   "id": "8a6dcfd3",
   "metadata": {},
   "outputs": [],
   "source": [
    "plt.figure(figsize=(5,3))\n",
    "plt.title('Normalized Partition Function Comparision')\n",
    "plt.plot(yhat.cpu().detach().numpy(),label='Macro Network')\n",
    "plt.plot(y.cpu().detach().numpy(),label='Original Network')\n",
    "plt.xlabel(r'$\\tau$',fontsize=15)\n",
    "plt.ylabel(r'$Z(\\tau)$',fontsize=15)\n",
    "plt.xscale('log')\n",
    "plt.legend()\n",
    "plt.show()"
   ]
  }
 ],
 "metadata": {
  "kernelspec": {
   "display_name": "Python 3 (ipykernel)",
   "language": "python",
   "name": "python3"
  },
  "language_info": {
   "codemirror_mode": {
    "name": "ipython",
    "version": 3
   },
   "file_extension": ".py",
   "mimetype": "text/x-python",
   "name": "python",
   "nbconvert_exporter": "python",
   "pygments_lexer": "ipython3",
   "version": "3.9.12"
  }
 },
 "nbformat": 4,
 "nbformat_minor": 5
}
